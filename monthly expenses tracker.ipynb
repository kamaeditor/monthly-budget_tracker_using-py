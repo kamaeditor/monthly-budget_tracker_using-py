{
 "cells": [
  {
   "cell_type": "code",
   "execution_count": 3,
   "id": "73cc45ac-0f44-4ef6-90f5-c262f3263d50",
   "metadata": {},
   "outputs": [
    {
     "name": "stdout",
     "output_type": "stream",
     "text": [
      "Helloworld\n"
     ]
    }
   ],
   "source": [
    "print(\"Helloworld\")"
   ]
  },
  {
   "cell_type": "markdown",
   "id": "d1b37245-0430-4e51-990d-56e55258b67c",
   "metadata": {},
   "source": [
    "# personal expenses tracker"
   ]
  },
  {
   "cell_type": "markdown",
   "id": "bc33e17e-b99f-4037-a2cf-f682b1f5bf48",
   "metadata": {},
   "source": [
    "## what are we tracking"
   ]
  },
  {
   "cell_type": "markdown",
   "id": "7c6e53f8-4314-4098-9d2d-2325729aba80",
   "metadata": {},
   "source": [
    "#Create variable"
   ]
  },
  {
   "cell_type": "code",
   "execution_count": 1,
   "id": "9cbc606c-9a34-4aa1-8b69-2edbfc682122",
   "metadata": {},
   "outputs": [
    {
     "name": "stdout",
     "output_type": "stream",
     "text": [
      "hello everyone welcome to python\n"
     ]
    }
   ],
   "source": [
    "greetings=\"hello everyone welcome to python\"\n",
    "print(greetings)"
   ]
  },
  {
   "cell_type": "code",
   "execution_count": 17,
   "id": "4d84a658-1009-436f-bd24-3298de252a77",
   "metadata": {},
   "outputs": [],
   "source": [
    "user = \"jimmy\"\n",
    "current_month = 'august 2025' #str\n",
    "currency = '$' # str\n",
    "budget = 500.00 #float\n",
    "num_days_in_month = '31' # int\n",
    "is_budget_set = 'true' # boolean"
   ]
  },
  {
   "cell_type": "code",
   "execution_count": 3,
   "id": "c24676ba-eee3-4212-8fb0-59071b50b4bb",
   "metadata": {},
   "outputs": [
    {
     "name": "stdout",
     "output_type": "stream",
     "text": [
      "jimmy\n"
     ]
    }
   ],
   "source": [
    "print(user)"
   ]
  },
  {
   "cell_type": "code",
   "execution_count": 4,
   "id": "c78e83f6-9e46-42f5-a0df-b196efc44e9a",
   "metadata": {},
   "outputs": [
    {
     "name": "stdout",
     "output_type": "stream",
     "text": [
      "budget for august 2025 : 500.00\n"
     ]
    }
   ],
   "source": [
    "print ('budget for', current_month, ':', budget)"
   ]
  },
  {
   "cell_type": "markdown",
   "id": "b2cca0c3-0db0-4c3c-96ba-809fc326a622",
   "metadata": {},
   "source": [
    "A single expense"
   ]
  },
  {
   "cell_type": "code",
   "execution_count": 5,
   "id": "9ba5a75a-5e8b-4379-a031-bde3a4cd251b",
   "metadata": {},
   "outputs": [],
   "source": [
    "item= 'Rent' \n",
    "amount= '200.00' # float\n",
    "category= 'housing'\n",
    "is_necessary = 'true'"
   ]
  },
  {
   "cell_type": "code",
   "execution_count": 6,
   "id": "cbecb3be-e321-4065-b670-b757e2583090",
   "metadata": {},
   "outputs": [],
   "source": [
    "clossing_balance = \"300\""
   ]
  },
  {
   "cell_type": "code",
   "execution_count": 23,
   "id": "a3c88f2f-7de2-4c57-ae62-93eeb90714aa",
   "metadata": {},
   "outputs": [
    {
     "name": "stdout",
     "output_type": "stream",
     "text": [
      "===================================\n",
      "    Expenses Tracker\n",
      "===================================\n",
      "owner              jimmy\n",
      "period            august 2025\n",
      "currency          $\n",
      "starting Balance   500.0\n",
      "total expences     335.0\n",
      "clossing balance   165.0\n",
      "Transactions       6\n"
     ]
    }
   ],
   "source": [
    "print('=' * 35)\n",
    "print('    Expenses Tracker')\n",
    "print('=' * 35)\n",
    "print('owner','            ',user)\n",
    "print('period', '          ', current_month)\n",
    "print('currency', '        ', currency)\n",
    "print('starting Balance', ' ', budget)\n",
    "print('total expences', '   ', total_expenses)\n",
    "print('clossing balance', ' ', balance)\n",
    "print('Transactions', '     ',No_of_items)\n"
   ]
  },
  {
   "cell_type": "code",
   "execution_count": 8,
   "id": "37b03f73-0fca-49a0-98b8-9d1ebb782514",
   "metadata": {},
   "outputs": [],
   "source": [
    "items = ['Rent', 'Electricity', 'Clothe', 'Data bundle', 'kfc', 'Netflix']\n",
    "prices = [200.00, 40.00, 50.00, 20,15,10]\n",
    "Categories = ['housing','utility', 'basic', 'food', 'entertainment']\n",
    "necessary = [True, True, True, True, False, False]"
   ]
  },
  {
   "cell_type": "code",
   "execution_count": 9,
   "id": "fe7ed5fe-d09f-4193-ab5b-673c19a66eb1",
   "metadata": {},
   "outputs": [
    {
     "data": {
      "text/plain": [
       "20"
      ]
     },
     "execution_count": 9,
     "metadata": {},
     "output_type": "execute_result"
    }
   ],
   "source": [
    "prices[3]"
   ]
  },
  {
   "cell_type": "code",
   "execution_count": 10,
   "id": "1dd20679-4b14-4b2a-9d9f-9bc8c49ad6b2",
   "metadata": {},
   "outputs": [
    {
     "data": {
      "text/plain": [
       "335.0"
      ]
     },
     "execution_count": 10,
     "metadata": {},
     "output_type": "execute_result"
    }
   ],
   "source": [
    "sum(prices)"
   ]
  },
  {
   "cell_type": "code",
   "execution_count": 11,
   "id": "d5f09f84-2c2b-41ba-bd69-9944c6d69a33",
   "metadata": {},
   "outputs": [],
   "source": [
    "total_expenses = sum(prices)"
   ]
  },
  {
   "cell_type": "code",
   "execution_count": 18,
   "id": "0bd9f36e-4646-4a67-962a-9a9fa6995043",
   "metadata": {},
   "outputs": [],
   "source": [
    "balance = budget - total_expenses"
   ]
  },
  {
   "cell_type": "code",
   "execution_count": 20,
   "id": "7cdf76ad-8323-4222-b3ab-ce881f2341bd",
   "metadata": {},
   "outputs": [
    {
     "data": {
      "text/plain": [
       "6"
      ]
     },
     "execution_count": 20,
     "metadata": {},
     "output_type": "execute_result"
    }
   ],
   "source": [
    "len(items)"
   ]
  },
  {
   "cell_type": "code",
   "execution_count": 21,
   "id": "c0620319-ba4b-4667-8197-f3c40677e28c",
   "metadata": {},
   "outputs": [],
   "source": [
    "No_of_items = len(items)"
   ]
  },
  {
   "cell_type": "code",
   "execution_count": null,
   "id": "2f8c7dbb-1344-468c-9eb6-c83bf5496f93",
   "metadata": {},
   "outputs": [],
   "source": []
  }
 ],
 "metadata": {
  "kernelspec": {
   "display_name": "Python [conda env:base] *",
   "language": "python",
   "name": "conda-base-py"
  },
  "language_info": {
   "codemirror_mode": {
    "name": "ipython",
    "version": 3
   },
   "file_extension": ".py",
   "mimetype": "text/x-python",
   "name": "python",
   "nbconvert_exporter": "python",
   "pygments_lexer": "ipython3",
   "version": "3.12.7"
  }
 },
 "nbformat": 4,
 "nbformat_minor": 5
}
